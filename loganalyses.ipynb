{
 "cells": [
  {
   "cell_type": "code",
   "execution_count": 9,
   "id": "90fe0756",
   "metadata": {},
   "outputs": [
    {
     "name": "stdout",
     "output_type": "stream",
     "text": [
      "  activity                   description      time   date productive\n",
      "1  winning  leveraging python to succeed  04 43 PM  06-10         no\n",
      "2   eating                           NaN  09:11 AM  06-11         no\n",
      "3   coding                           NaN  09:52 AM  06-11        yes\n",
      "4     abcd                          test  11:22 AM  06-12        yes\n"
     ]
    }
   ],
   "source": [
    "import pandas as pd\n",
    "\n",
    "# Set dataframe as read from file\n",
    "df = pd.read_csv('data.csv', index_col=0)\n",
    "\n",
    "print(df)"
   ]
  },
  {
   "cell_type": "code",
   "execution_count": 10,
   "id": "b6dc9bd6",
   "metadata": {},
   "outputs": [
    {
     "name": "stdout",
     "output_type": "stream",
     "text": [
      "  activity productive\n",
      "1  winning         no\n",
      "2   eating         no\n",
      "3   coding        yes\n",
      "4     abcd        yes\n"
     ]
    }
   ],
   "source": [
    "# Output a column\n",
    "#print(df['activity'])\n",
    "\n",
    "# Output rows 2:3\n",
    "#print(df.loc[2:3])\n",
    "\n",
    "# Output columns \"activity\" and \"productive\"\n",
    "print(df[['activity', 'productive']]) # df[['activity', 'productive?'].loc[2:3] works as well for location"
   ]
  },
  {
   "cell_type": "code",
   "execution_count": null,
   "id": "10c06e91",
   "metadata": {},
   "outputs": [],
   "source": []
  },
  {
   "cell_type": "code",
   "execution_count": null,
   "id": "84839987",
   "metadata": {},
   "outputs": [],
   "source": []
  }
 ],
 "metadata": {
  "kernelspec": {
   "display_name": "Python 3 (ipykernel)",
   "language": "python",
   "name": "python3"
  },
  "language_info": {
   "codemirror_mode": {
    "name": "ipython",
    "version": 3
   },
   "file_extension": ".py",
   "mimetype": "text/x-python",
   "name": "python",
   "nbconvert_exporter": "python",
   "pygments_lexer": "ipython3",
   "version": "3.10.5"
  }
 },
 "nbformat": 4,
 "nbformat_minor": 5
}
